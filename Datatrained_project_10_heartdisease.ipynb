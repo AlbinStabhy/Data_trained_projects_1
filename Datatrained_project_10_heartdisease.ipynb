{
 "cells": [
  {
   "cell_type": "code",
   "execution_count": 328,
   "metadata": {},
   "outputs": [],
   "source": [
    "import pandas as pd\n",
    "import numpy as np\n",
    "import seaborn as sns\n",
    "import matplotlib.pyplot as plt\n",
    "import warnings\n",
    "warnings.filterwarnings('ignore')"
   ]
  },
  {
   "cell_type": "code",
   "execution_count": 329,
   "metadata": {},
   "outputs": [
    {
     "data": {
      "text/html": [
       "<div>\n",
       "<style scoped>\n",
       "    .dataframe tbody tr th:only-of-type {\n",
       "        vertical-align: middle;\n",
       "    }\n",
       "\n",
       "    .dataframe tbody tr th {\n",
       "        vertical-align: top;\n",
       "    }\n",
       "\n",
       "    .dataframe thead th {\n",
       "        text-align: right;\n",
       "    }\n",
       "</style>\n",
       "<table border=\"1\" class=\"dataframe\">\n",
       "  <thead>\n",
       "    <tr style=\"text-align: right;\">\n",
       "      <th></th>\n",
       "      <th>age</th>\n",
       "      <th>sex</th>\n",
       "      <th>cp</th>\n",
       "      <th>trestbps</th>\n",
       "      <th>chol</th>\n",
       "      <th>fbs</th>\n",
       "      <th>restecg</th>\n",
       "      <th>thalach</th>\n",
       "      <th>exang</th>\n",
       "      <th>oldpeak</th>\n",
       "      <th>slope</th>\n",
       "      <th>ca</th>\n",
       "      <th>thal</th>\n",
       "      <th>num</th>\n",
       "    </tr>\n",
       "  </thead>\n",
       "  <tbody>\n",
       "    <tr>\n",
       "      <th>0</th>\n",
       "      <td>63</td>\n",
       "      <td>1</td>\n",
       "      <td>4</td>\n",
       "      <td>140</td>\n",
       "      <td>260</td>\n",
       "      <td>0</td>\n",
       "      <td>1</td>\n",
       "      <td>112</td>\n",
       "      <td>1</td>\n",
       "      <td>3</td>\n",
       "      <td>2</td>\n",
       "      <td>?</td>\n",
       "      <td>?</td>\n",
       "      <td>2</td>\n",
       "    </tr>\n",
       "    <tr>\n",
       "      <th>1</th>\n",
       "      <td>44</td>\n",
       "      <td>1</td>\n",
       "      <td>4</td>\n",
       "      <td>130</td>\n",
       "      <td>209</td>\n",
       "      <td>0</td>\n",
       "      <td>1</td>\n",
       "      <td>127</td>\n",
       "      <td>0</td>\n",
       "      <td>0</td>\n",
       "      <td>?</td>\n",
       "      <td>?</td>\n",
       "      <td>?</td>\n",
       "      <td>0</td>\n",
       "    </tr>\n",
       "    <tr>\n",
       "      <th>2</th>\n",
       "      <td>60</td>\n",
       "      <td>1</td>\n",
       "      <td>4</td>\n",
       "      <td>132</td>\n",
       "      <td>218</td>\n",
       "      <td>0</td>\n",
       "      <td>1</td>\n",
       "      <td>140</td>\n",
       "      <td>1</td>\n",
       "      <td>1.5</td>\n",
       "      <td>3</td>\n",
       "      <td>?</td>\n",
       "      <td>?</td>\n",
       "      <td>2</td>\n",
       "    </tr>\n",
       "    <tr>\n",
       "      <th>3</th>\n",
       "      <td>55</td>\n",
       "      <td>1</td>\n",
       "      <td>4</td>\n",
       "      <td>142</td>\n",
       "      <td>228</td>\n",
       "      <td>0</td>\n",
       "      <td>1</td>\n",
       "      <td>149</td>\n",
       "      <td>1</td>\n",
       "      <td>2.5</td>\n",
       "      <td>1</td>\n",
       "      <td>?</td>\n",
       "      <td>?</td>\n",
       "      <td>1</td>\n",
       "    </tr>\n",
       "    <tr>\n",
       "      <th>4</th>\n",
       "      <td>66</td>\n",
       "      <td>1</td>\n",
       "      <td>3</td>\n",
       "      <td>110</td>\n",
       "      <td>213</td>\n",
       "      <td>1</td>\n",
       "      <td>2</td>\n",
       "      <td>99</td>\n",
       "      <td>1</td>\n",
       "      <td>1.3</td>\n",
       "      <td>2</td>\n",
       "      <td>?</td>\n",
       "      <td>?</td>\n",
       "      <td>0</td>\n",
       "    </tr>\n",
       "    <tr>\n",
       "      <th>...</th>\n",
       "      <td>...</td>\n",
       "      <td>...</td>\n",
       "      <td>...</td>\n",
       "      <td>...</td>\n",
       "      <td>...</td>\n",
       "      <td>...</td>\n",
       "      <td>...</td>\n",
       "      <td>...</td>\n",
       "      <td>...</td>\n",
       "      <td>...</td>\n",
       "      <td>...</td>\n",
       "      <td>...</td>\n",
       "      <td>...</td>\n",
       "      <td>...</td>\n",
       "    </tr>\n",
       "    <tr>\n",
       "      <th>195</th>\n",
       "      <td>54</td>\n",
       "      <td>0</td>\n",
       "      <td>4</td>\n",
       "      <td>127</td>\n",
       "      <td>333</td>\n",
       "      <td>1</td>\n",
       "      <td>1</td>\n",
       "      <td>154</td>\n",
       "      <td>0</td>\n",
       "      <td>0</td>\n",
       "      <td>?</td>\n",
       "      <td>?</td>\n",
       "      <td>?</td>\n",
       "      <td>1</td>\n",
       "    </tr>\n",
       "    <tr>\n",
       "      <th>196</th>\n",
       "      <td>62</td>\n",
       "      <td>1</td>\n",
       "      <td>1</td>\n",
       "      <td>?</td>\n",
       "      <td>139</td>\n",
       "      <td>0</td>\n",
       "      <td>1</td>\n",
       "      <td>?</td>\n",
       "      <td>?</td>\n",
       "      <td>?</td>\n",
       "      <td>?</td>\n",
       "      <td>?</td>\n",
       "      <td>?</td>\n",
       "      <td>0</td>\n",
       "    </tr>\n",
       "    <tr>\n",
       "      <th>197</th>\n",
       "      <td>55</td>\n",
       "      <td>1</td>\n",
       "      <td>4</td>\n",
       "      <td>122</td>\n",
       "      <td>223</td>\n",
       "      <td>1</td>\n",
       "      <td>1</td>\n",
       "      <td>100</td>\n",
       "      <td>0</td>\n",
       "      <td>0</td>\n",
       "      <td>?</td>\n",
       "      <td>?</td>\n",
       "      <td>6</td>\n",
       "      <td>2</td>\n",
       "    </tr>\n",
       "    <tr>\n",
       "      <th>198</th>\n",
       "      <td>58</td>\n",
       "      <td>1</td>\n",
       "      <td>4</td>\n",
       "      <td>?</td>\n",
       "      <td>385</td>\n",
       "      <td>1</td>\n",
       "      <td>2</td>\n",
       "      <td>?</td>\n",
       "      <td>?</td>\n",
       "      <td>?</td>\n",
       "      <td>?</td>\n",
       "      <td>?</td>\n",
       "      <td>?</td>\n",
       "      <td>0</td>\n",
       "    </tr>\n",
       "    <tr>\n",
       "      <th>199</th>\n",
       "      <td>62</td>\n",
       "      <td>1</td>\n",
       "      <td>2</td>\n",
       "      <td>120</td>\n",
       "      <td>254</td>\n",
       "      <td>0</td>\n",
       "      <td>2</td>\n",
       "      <td>93</td>\n",
       "      <td>1</td>\n",
       "      <td>0</td>\n",
       "      <td>?</td>\n",
       "      <td>?</td>\n",
       "      <td>?</td>\n",
       "      <td>1</td>\n",
       "    </tr>\n",
       "  </tbody>\n",
       "</table>\n",
       "<p>200 rows × 14 columns</p>\n",
       "</div>"
      ],
      "text/plain": [
       "     age  sex  cp trestbps chol fbs  restecg thalach exang oldpeak slope ca  \\\n",
       "0     63    1   4      140  260   0        1     112     1       3     2  ?   \n",
       "1     44    1   4      130  209   0        1     127     0       0     ?  ?   \n",
       "2     60    1   4      132  218   0        1     140     1     1.5     3  ?   \n",
       "3     55    1   4      142  228   0        1     149     1     2.5     1  ?   \n",
       "4     66    1   3      110  213   1        2      99     1     1.3     2  ?   \n",
       "..   ...  ...  ..      ...  ...  ..      ...     ...   ...     ...   ... ..   \n",
       "195   54    0   4      127  333   1        1     154     0       0     ?  ?   \n",
       "196   62    1   1        ?  139   0        1       ?     ?       ?     ?  ?   \n",
       "197   55    1   4      122  223   1        1     100     0       0     ?  ?   \n",
       "198   58    1   4        ?  385   1        2       ?     ?       ?     ?  ?   \n",
       "199   62    1   2      120  254   0        2      93     1       0     ?  ?   \n",
       "\n",
       "    thal  num  \n",
       "0      ?    2  \n",
       "1      ?    0  \n",
       "2      ?    2  \n",
       "3      ?    1  \n",
       "4      ?    0  \n",
       "..   ...  ...  \n",
       "195    ?    1  \n",
       "196    ?    0  \n",
       "197    6    2  \n",
       "198    ?    0  \n",
       "199    ?    1  \n",
       "\n",
       "[200 rows x 14 columns]"
      ]
     },
     "execution_count": 329,
     "metadata": {},
     "output_type": "execute_result"
    }
   ],
   "source": [
    "df = pd.read_csv('heartdisease_data.csv',\n",
    "                 names =['age','sex','cp','trestbps','chol','fbs','restecg','thalach','exang','oldpeak','slope','ca','thal','num'])\n",
    "df"
   ]
  },
  {
   "cell_type": "code",
   "execution_count": 330,
   "metadata": {},
   "outputs": [
    {
     "data": {
      "text/plain": [
       "(200, 14)"
      ]
     },
     "execution_count": 330,
     "metadata": {},
     "output_type": "execute_result"
    }
   ],
   "source": [
    "df.shape"
   ]
  },
  {
   "cell_type": "code",
   "execution_count": 331,
   "metadata": {},
   "outputs": [
    {
     "data": {
      "text/plain": [
       "Index(['age', 'sex', 'cp', 'trestbps', 'chol', 'fbs', 'restecg', 'thalach',\n",
       "       'exang', 'oldpeak', 'slope', 'ca', 'thal', 'num'],\n",
       "      dtype='object')"
      ]
     },
     "execution_count": 331,
     "metadata": {},
     "output_type": "execute_result"
    }
   ],
   "source": [
    "df.columns"
   ]
  },
  {
   "cell_type": "code",
   "execution_count": 332,
   "metadata": {},
   "outputs": [
    {
     "data": {
      "text/plain": [
       "array(['?', '0'], dtype=object)"
      ]
     },
     "execution_count": 332,
     "metadata": {},
     "output_type": "execute_result"
    }
   ],
   "source": [
    "df['ca'].unique()"
   ]
  },
  {
   "cell_type": "code",
   "execution_count": 333,
   "metadata": {},
   "outputs": [
    {
     "data": {
      "text/plain": [
       "array(['?', '3', '7', '6'], dtype=object)"
      ]
     },
     "execution_count": 333,
     "metadata": {},
     "output_type": "execute_result"
    }
   ],
   "source": [
    "df['thal'].unique()"
   ]
  },
  {
   "cell_type": "code",
   "execution_count": 334,
   "metadata": {},
   "outputs": [
    {
     "data": {
      "text/plain": [
       "array(['2', '?', '3', '1'], dtype=object)"
      ]
     },
     "execution_count": 334,
     "metadata": {},
     "output_type": "execute_result"
    }
   ],
   "source": [
    "df['slope'].unique()\n"
   ]
  },
  {
   "cell_type": "code",
   "execution_count": 335,
   "metadata": {},
   "outputs": [
    {
     "data": {
      "text/plain": [
       "array(['1', '0', '?'], dtype=object)"
      ]
     },
     "execution_count": 335,
     "metadata": {},
     "output_type": "execute_result"
    }
   ],
   "source": [
    "df['exang'].unique()"
   ]
  },
  {
   "cell_type": "code",
   "execution_count": 336,
   "metadata": {},
   "outputs": [
    {
     "data": {
      "text/plain": [
       "array(['112', '127', '140', '149', '99', '120', '105', '141', '157',\n",
       "       '117', '?', '148', '86', '84', '125', '118', '124', '106', '111',\n",
       "       '180', '129', '110', '155', '122', '133', '131', '80', '165',\n",
       "       '107', '128', '160', '97', '161', '130', '108', '123', '144',\n",
       "       '102', '145', '69', '138', '150', '88', '132', '121', '135', '100',\n",
       "       '162', '73', '154', '115', '119', '159', '94', '113', '98', '96',\n",
       "       '151', '126', '93'], dtype=object)"
      ]
     },
     "execution_count": 336,
     "metadata": {},
     "output_type": "execute_result"
    }
   ],
   "source": [
    "df['thalach'].unique()"
   ]
  },
  {
   "cell_type": "code",
   "execution_count": 337,
   "metadata": {},
   "outputs": [
    {
     "data": {
      "text/plain": [
       "array(['140', '130', '132', '142', '110', '120', '150', '180', '160',\n",
       "       '126', '?', '128', '170', '152', '116', '124', '0', '122', '144',\n",
       "       '154', '125', '104', '136', '134', '138', '178', '146', '135',\n",
       "       '158', '106', '112', '102', '96', '172', '155', '156', '118',\n",
       "       '100', '190', '114', '127'], dtype=object)"
      ]
     },
     "execution_count": 337,
     "metadata": {},
     "output_type": "execute_result"
    }
   ],
   "source": [
    "df['trestbps'].unique()"
   ]
  },
  {
   "cell_type": "code",
   "execution_count": 338,
   "metadata": {},
   "outputs": [
    {
     "data": {
      "text/plain": [
       "array(['3', '0', '1.5', '2.5', '1.3', '-0.5', '2', '0.5', '1', '?', '1.6',\n",
       "       '4', '3.5', '0.8', '1.7'], dtype=object)"
      ]
     },
     "execution_count": 338,
     "metadata": {},
     "output_type": "execute_result"
    }
   ],
   "source": [
    "df['oldpeak'].unique()"
   ]
  },
  {
   "cell_type": "code",
   "execution_count": 339,
   "metadata": {},
   "outputs": [
    {
     "data": {
      "text/plain": [
       "array(['260', '209', '218', '228', '213', '0', '236', '267', '166', '220',\n",
       "       '177', '186', '100', '171', '230', '281', '203', '277', '233',\n",
       "       '240', '153', '224', '316', '311', '270', '217', '214', '252',\n",
       "       '339', '216', '276', '458', '241', '384', '297', '248', '308',\n",
       "       '208', '227', '210', '245', '225', '198', '195', '161', '258',\n",
       "       '235', '305', '223', '282', '349', '?', '160', '312', '283', '142',\n",
       "       '211', '306', '222', '202', '197', '204', '274', '192', '298',\n",
       "       '272', '200', '261', '181', '221', '175', '219', '310', '232',\n",
       "       '273', '182', '292', '289', '193', '170', '369', '173', '271',\n",
       "       '244', '285', '243', '237', '165', '287', '256', '264', '226',\n",
       "       '207', '284', '337', '254', '300', '333', '139', '385'],\n",
       "      dtype=object)"
      ]
     },
     "execution_count": 339,
     "metadata": {},
     "output_type": "execute_result"
    }
   ],
   "source": [
    "df['chol'].unique()"
   ]
  },
  {
   "cell_type": "code",
   "execution_count": 340,
   "metadata": {},
   "outputs": [
    {
     "data": {
      "text/plain": [
       "array(['0', '1', '?'], dtype=object)"
      ]
     },
     "execution_count": 340,
     "metadata": {},
     "output_type": "execute_result"
    }
   ],
   "source": [
    "df['fbs'].unique()"
   ]
  },
  {
   "cell_type": "code",
   "execution_count": 341,
   "metadata": {},
   "outputs": [],
   "source": [
    "df = df.replace('?',np.nan)"
   ]
  },
  {
   "cell_type": "code",
   "execution_count": 342,
   "metadata": {},
   "outputs": [
    {
     "data": {
      "text/plain": [
       "age           0\n",
       "sex           0\n",
       "cp            0\n",
       "trestbps     56\n",
       "chol          7\n",
       "fbs           7\n",
       "restecg       0\n",
       "thalach      53\n",
       "exang        53\n",
       "oldpeak      56\n",
       "slope       102\n",
       "ca          198\n",
       "thal        166\n",
       "num           0\n",
       "dtype: int64"
      ]
     },
     "execution_count": 342,
     "metadata": {},
     "output_type": "execute_result"
    }
   ],
   "source": [
    "df.isnull().sum()"
   ]
  },
  {
   "cell_type": "code",
   "execution_count": 343,
   "metadata": {},
   "outputs": [],
   "source": [
    "for col in ['ca','thal','slope','exang','oldpeak','fbs']:\n",
    "    df[col].fillna(df[col].mode()[0],inplace = True)"
   ]
  },
  {
   "cell_type": "code",
   "execution_count": 344,
   "metadata": {},
   "outputs": [],
   "source": [
    "df['thalach'] = df['thalach'].replace(np.nan,1)"
   ]
  },
  {
   "cell_type": "code",
   "execution_count": 345,
   "metadata": {},
   "outputs": [],
   "source": [
    "df['thalach'] = df['thalach'].astype(str).astype(int)"
   ]
  },
  {
   "cell_type": "code",
   "execution_count": 346,
   "metadata": {},
   "outputs": [],
   "source": [
    "df['thalach'] = df['thalach'].replace(1,np.nan)"
   ]
  },
  {
   "cell_type": "code",
   "execution_count": 347,
   "metadata": {},
   "outputs": [],
   "source": [
    "df['trestbps'] = df['trestbps'].replace(np.nan,1)"
   ]
  },
  {
   "cell_type": "code",
   "execution_count": 348,
   "metadata": {},
   "outputs": [],
   "source": [
    "df['trestbps'] = df['trestbps'].astype(str).astype(int)"
   ]
  },
  {
   "cell_type": "code",
   "execution_count": 349,
   "metadata": {},
   "outputs": [],
   "source": [
    "df['trestbps'] = df['trestbps'].replace(1,np.nan)"
   ]
  },
  {
   "cell_type": "code",
   "execution_count": 350,
   "metadata": {},
   "outputs": [],
   "source": [
    "df['chol'] = df['chol'].replace(np.nan,1)"
   ]
  },
  {
   "cell_type": "code",
   "execution_count": 351,
   "metadata": {},
   "outputs": [],
   "source": [
    "df['chol'] = df['chol'].astype(str).astype(int)"
   ]
  },
  {
   "cell_type": "code",
   "execution_count": 352,
   "metadata": {},
   "outputs": [],
   "source": [
    "df['chol'] = df['chol'].replace(1,np.nan)"
   ]
  },
  {
   "cell_type": "code",
   "execution_count": 353,
   "metadata": {},
   "outputs": [],
   "source": [
    "for cul in ['thalach','trestbps','chol']:\n",
    "    df[cul].fillna(df[cul].mean(),inplace = True)"
   ]
  },
  {
   "cell_type": "code",
   "execution_count": 354,
   "metadata": {},
   "outputs": [
    {
     "data": {
      "text/plain": [
       "False"
      ]
     },
     "execution_count": 354,
     "metadata": {},
     "output_type": "execute_result"
    }
   ],
   "source": [
    "df.isnull().values.any()"
   ]
  },
  {
   "cell_type": "code",
   "execution_count": 355,
   "metadata": {},
   "outputs": [
    {
     "data": {
      "text/html": [
       "<div>\n",
       "<style scoped>\n",
       "    .dataframe tbody tr th:only-of-type {\n",
       "        vertical-align: middle;\n",
       "    }\n",
       "\n",
       "    .dataframe tbody tr th {\n",
       "        vertical-align: top;\n",
       "    }\n",
       "\n",
       "    .dataframe thead th {\n",
       "        text-align: right;\n",
       "    }\n",
       "</style>\n",
       "<table border=\"1\" class=\"dataframe\">\n",
       "  <thead>\n",
       "    <tr style=\"text-align: right;\">\n",
       "      <th></th>\n",
       "      <th>age</th>\n",
       "      <th>sex</th>\n",
       "      <th>cp</th>\n",
       "      <th>trestbps</th>\n",
       "      <th>chol</th>\n",
       "      <th>fbs</th>\n",
       "      <th>restecg</th>\n",
       "      <th>thalach</th>\n",
       "      <th>exang</th>\n",
       "      <th>oldpeak</th>\n",
       "      <th>slope</th>\n",
       "      <th>ca</th>\n",
       "      <th>thal</th>\n",
       "      <th>num</th>\n",
       "    </tr>\n",
       "  </thead>\n",
       "  <tbody>\n",
       "    <tr>\n",
       "      <th>195</th>\n",
       "      <td>54</td>\n",
       "      <td>0</td>\n",
       "      <td>4</td>\n",
       "      <td>127.000000</td>\n",
       "      <td>333.0</td>\n",
       "      <td>1</td>\n",
       "      <td>1</td>\n",
       "      <td>154.000000</td>\n",
       "      <td>0</td>\n",
       "      <td>0</td>\n",
       "      <td>2</td>\n",
       "      <td>0</td>\n",
       "      <td>7</td>\n",
       "      <td>1</td>\n",
       "    </tr>\n",
       "    <tr>\n",
       "      <th>196</th>\n",
       "      <td>62</td>\n",
       "      <td>1</td>\n",
       "      <td>1</td>\n",
       "      <td>133.763889</td>\n",
       "      <td>139.0</td>\n",
       "      <td>0</td>\n",
       "      <td>1</td>\n",
       "      <td>122.795918</td>\n",
       "      <td>1</td>\n",
       "      <td>0</td>\n",
       "      <td>2</td>\n",
       "      <td>0</td>\n",
       "      <td>7</td>\n",
       "      <td>0</td>\n",
       "    </tr>\n",
       "    <tr>\n",
       "      <th>197</th>\n",
       "      <td>55</td>\n",
       "      <td>1</td>\n",
       "      <td>4</td>\n",
       "      <td>122.000000</td>\n",
       "      <td>223.0</td>\n",
       "      <td>1</td>\n",
       "      <td>1</td>\n",
       "      <td>100.000000</td>\n",
       "      <td>0</td>\n",
       "      <td>0</td>\n",
       "      <td>2</td>\n",
       "      <td>0</td>\n",
       "      <td>6</td>\n",
       "      <td>2</td>\n",
       "    </tr>\n",
       "    <tr>\n",
       "      <th>198</th>\n",
       "      <td>58</td>\n",
       "      <td>1</td>\n",
       "      <td>4</td>\n",
       "      <td>133.763889</td>\n",
       "      <td>385.0</td>\n",
       "      <td>1</td>\n",
       "      <td>2</td>\n",
       "      <td>122.795918</td>\n",
       "      <td>1</td>\n",
       "      <td>0</td>\n",
       "      <td>2</td>\n",
       "      <td>0</td>\n",
       "      <td>7</td>\n",
       "      <td>0</td>\n",
       "    </tr>\n",
       "    <tr>\n",
       "      <th>199</th>\n",
       "      <td>62</td>\n",
       "      <td>1</td>\n",
       "      <td>2</td>\n",
       "      <td>120.000000</td>\n",
       "      <td>254.0</td>\n",
       "      <td>0</td>\n",
       "      <td>2</td>\n",
       "      <td>93.000000</td>\n",
       "      <td>1</td>\n",
       "      <td>0</td>\n",
       "      <td>2</td>\n",
       "      <td>0</td>\n",
       "      <td>7</td>\n",
       "      <td>1</td>\n",
       "    </tr>\n",
       "  </tbody>\n",
       "</table>\n",
       "</div>"
      ],
      "text/plain": [
       "     age  sex  cp    trestbps   chol fbs  restecg     thalach exang oldpeak  \\\n",
       "195   54    0   4  127.000000  333.0   1        1  154.000000     0       0   \n",
       "196   62    1   1  133.763889  139.0   0        1  122.795918     1       0   \n",
       "197   55    1   4  122.000000  223.0   1        1  100.000000     0       0   \n",
       "198   58    1   4  133.763889  385.0   1        2  122.795918     1       0   \n",
       "199   62    1   2  120.000000  254.0   0        2   93.000000     1       0   \n",
       "\n",
       "    slope ca thal  num  \n",
       "195     2  0    7    1  \n",
       "196     2  0    7    0  \n",
       "197     2  0    6    2  \n",
       "198     2  0    7    0  \n",
       "199     2  0    7    1  "
      ]
     },
     "execution_count": 355,
     "metadata": {},
     "output_type": "execute_result"
    }
   ],
   "source": [
    "df.tail()"
   ]
  },
  {
   "cell_type": "code",
   "execution_count": 356,
   "metadata": {},
   "outputs": [
    {
     "data": {
      "text/plain": [
       "(200, 14)"
      ]
     },
     "execution_count": 356,
     "metadata": {},
     "output_type": "execute_result"
    }
   ],
   "source": [
    "df.shape"
   ]
  },
  {
   "cell_type": "code",
   "execution_count": 357,
   "metadata": {},
   "outputs": [
    {
     "name": "stdout",
     "output_type": "stream",
     "text": [
      "<class 'pandas.core.frame.DataFrame'>\n",
      "RangeIndex: 200 entries, 0 to 199\n",
      "Data columns (total 14 columns):\n",
      " #   Column    Non-Null Count  Dtype  \n",
      "---  ------    --------------  -----  \n",
      " 0   age       200 non-null    int64  \n",
      " 1   sex       200 non-null    int64  \n",
      " 2   cp        200 non-null    int64  \n",
      " 3   trestbps  200 non-null    float64\n",
      " 4   chol      200 non-null    float64\n",
      " 5   fbs       200 non-null    object \n",
      " 6   restecg   200 non-null    int64  \n",
      " 7   thalach   200 non-null    float64\n",
      " 8   exang     200 non-null    object \n",
      " 9   oldpeak   200 non-null    object \n",
      " 10  slope     200 non-null    object \n",
      " 11  ca        200 non-null    object \n",
      " 12  thal      200 non-null    object \n",
      " 13  num       200 non-null    int64  \n",
      "dtypes: float64(3), int64(5), object(6)\n",
      "memory usage: 22.0+ KB\n"
     ]
    }
   ],
   "source": [
    "df.info()"
   ]
  },
  {
   "cell_type": "code",
   "execution_count": 358,
   "metadata": {},
   "outputs": [],
   "source": [
    "df['fbs'] = df['fbs'].astype(int)"
   ]
  },
  {
   "cell_type": "code",
   "execution_count": 359,
   "metadata": {},
   "outputs": [],
   "source": [
    "df['exang'] = df['exang'].astype(int)"
   ]
  },
  {
   "cell_type": "code",
   "execution_count": 360,
   "metadata": {},
   "outputs": [],
   "source": [
    "df['oldpeak'] = df['oldpeak'].astype(float)"
   ]
  },
  {
   "cell_type": "code",
   "execution_count": 361,
   "metadata": {},
   "outputs": [],
   "source": [
    "df['slope'] = df['slope'].astype(int)"
   ]
  },
  {
   "cell_type": "code",
   "execution_count": 362,
   "metadata": {},
   "outputs": [],
   "source": [
    "df['ca'] = df['ca'].astype(int)"
   ]
  },
  {
   "cell_type": "code",
   "execution_count": 363,
   "metadata": {},
   "outputs": [],
   "source": [
    "df['thal'] = df['thal'].astype(int)"
   ]
  },
  {
   "cell_type": "code",
   "execution_count": 364,
   "metadata": {},
   "outputs": [
    {
     "name": "stdout",
     "output_type": "stream",
     "text": [
      "<class 'pandas.core.frame.DataFrame'>\n",
      "RangeIndex: 200 entries, 0 to 199\n",
      "Data columns (total 14 columns):\n",
      " #   Column    Non-Null Count  Dtype  \n",
      "---  ------    --------------  -----  \n",
      " 0   age       200 non-null    int64  \n",
      " 1   sex       200 non-null    int64  \n",
      " 2   cp        200 non-null    int64  \n",
      " 3   trestbps  200 non-null    float64\n",
      " 4   chol      200 non-null    float64\n",
      " 5   fbs       200 non-null    int32  \n",
      " 6   restecg   200 non-null    int64  \n",
      " 7   thalach   200 non-null    float64\n",
      " 8   exang     200 non-null    int32  \n",
      " 9   oldpeak   200 non-null    float64\n",
      " 10  slope     200 non-null    int32  \n",
      " 11  ca        200 non-null    int32  \n",
      " 12  thal      200 non-null    int32  \n",
      " 13  num       200 non-null    int64  \n",
      "dtypes: float64(4), int32(5), int64(5)\n",
      "memory usage: 18.1 KB\n"
     ]
    }
   ],
   "source": [
    "df.info()"
   ]
  },
  {
   "cell_type": "markdown",
   "metadata": {},
   "source": [
    "###  Summary Statistics"
   ]
  },
  {
   "cell_type": "code",
   "execution_count": 365,
   "metadata": {},
   "outputs": [
    {
     "data": {
      "text/html": [
       "<div>\n",
       "<style scoped>\n",
       "    .dataframe tbody tr th:only-of-type {\n",
       "        vertical-align: middle;\n",
       "    }\n",
       "\n",
       "    .dataframe tbody tr th {\n",
       "        vertical-align: top;\n",
       "    }\n",
       "\n",
       "    .dataframe thead th {\n",
       "        text-align: right;\n",
       "    }\n",
       "</style>\n",
       "<table border=\"1\" class=\"dataframe\">\n",
       "  <thead>\n",
       "    <tr style=\"text-align: right;\">\n",
       "      <th></th>\n",
       "      <th>age</th>\n",
       "      <th>sex</th>\n",
       "      <th>cp</th>\n",
       "      <th>trestbps</th>\n",
       "      <th>chol</th>\n",
       "      <th>fbs</th>\n",
       "      <th>restecg</th>\n",
       "      <th>thalach</th>\n",
       "      <th>exang</th>\n",
       "      <th>oldpeak</th>\n",
       "      <th>slope</th>\n",
       "      <th>ca</th>\n",
       "      <th>thal</th>\n",
       "      <th>num</th>\n",
       "    </tr>\n",
       "  </thead>\n",
       "  <tbody>\n",
       "    <tr>\n",
       "      <th>count</th>\n",
       "      <td>200.000000</td>\n",
       "      <td>200.000000</td>\n",
       "      <td>200.000000</td>\n",
       "      <td>200.000000</td>\n",
       "      <td>200.000000</td>\n",
       "      <td>200.000000</td>\n",
       "      <td>200.000000</td>\n",
       "      <td>200.000000</td>\n",
       "      <td>200.000000</td>\n",
       "      <td>200.000000</td>\n",
       "      <td>200.000000</td>\n",
       "      <td>200.0</td>\n",
       "      <td>200.000000</td>\n",
       "      <td>200.000000</td>\n",
       "    </tr>\n",
       "    <tr>\n",
       "      <th>mean</th>\n",
       "      <td>59.350000</td>\n",
       "      <td>0.970000</td>\n",
       "      <td>3.505000</td>\n",
       "      <td>133.763889</td>\n",
       "      <td>178.746114</td>\n",
       "      <td>0.340000</td>\n",
       "      <td>0.735000</td>\n",
       "      <td>122.795918</td>\n",
       "      <td>0.740000</td>\n",
       "      <td>0.951000</td>\n",
       "      <td>2.065000</td>\n",
       "      <td>0.0</td>\n",
       "      <td>6.880000</td>\n",
       "      <td>1.520000</td>\n",
       "    </tr>\n",
       "    <tr>\n",
       "      <th>std</th>\n",
       "      <td>7.811697</td>\n",
       "      <td>0.171015</td>\n",
       "      <td>0.795701</td>\n",
       "      <td>18.257507</td>\n",
       "      <td>112.011633</td>\n",
       "      <td>0.474898</td>\n",
       "      <td>0.683455</td>\n",
       "      <td>18.835692</td>\n",
       "      <td>0.439735</td>\n",
       "      <td>1.110344</td>\n",
       "      <td>0.471046</td>\n",
       "      <td>0.0</td>\n",
       "      <td>0.589353</td>\n",
       "      <td>1.219441</td>\n",
       "    </tr>\n",
       "    <tr>\n",
       "      <th>min</th>\n",
       "      <td>35.000000</td>\n",
       "      <td>0.000000</td>\n",
       "      <td>1.000000</td>\n",
       "      <td>0.000000</td>\n",
       "      <td>0.000000</td>\n",
       "      <td>0.000000</td>\n",
       "      <td>0.000000</td>\n",
       "      <td>69.000000</td>\n",
       "      <td>0.000000</td>\n",
       "      <td>-0.500000</td>\n",
       "      <td>1.000000</td>\n",
       "      <td>0.0</td>\n",
       "      <td>3.000000</td>\n",
       "      <td>0.000000</td>\n",
       "    </tr>\n",
       "    <tr>\n",
       "      <th>25%</th>\n",
       "      <td>55.000000</td>\n",
       "      <td>1.000000</td>\n",
       "      <td>3.000000</td>\n",
       "      <td>125.750000</td>\n",
       "      <td>129.250000</td>\n",
       "      <td>0.000000</td>\n",
       "      <td>0.000000</td>\n",
       "      <td>112.000000</td>\n",
       "      <td>0.000000</td>\n",
       "      <td>0.000000</td>\n",
       "      <td>2.000000</td>\n",
       "      <td>0.0</td>\n",
       "      <td>7.000000</td>\n",
       "      <td>0.000000</td>\n",
       "    </tr>\n",
       "    <tr>\n",
       "      <th>50%</th>\n",
       "      <td>60.000000</td>\n",
       "      <td>1.000000</td>\n",
       "      <td>4.000000</td>\n",
       "      <td>133.763889</td>\n",
       "      <td>214.000000</td>\n",
       "      <td>0.000000</td>\n",
       "      <td>1.000000</td>\n",
       "      <td>122.795918</td>\n",
       "      <td>1.000000</td>\n",
       "      <td>0.500000</td>\n",
       "      <td>2.000000</td>\n",
       "      <td>0.0</td>\n",
       "      <td>7.000000</td>\n",
       "      <td>1.000000</td>\n",
       "    </tr>\n",
       "    <tr>\n",
       "      <th>75%</th>\n",
       "      <td>64.000000</td>\n",
       "      <td>1.000000</td>\n",
       "      <td>4.000000</td>\n",
       "      <td>140.000000</td>\n",
       "      <td>254.500000</td>\n",
       "      <td>1.000000</td>\n",
       "      <td>1.000000</td>\n",
       "      <td>130.000000</td>\n",
       "      <td>1.000000</td>\n",
       "      <td>2.000000</td>\n",
       "      <td>2.000000</td>\n",
       "      <td>0.0</td>\n",
       "      <td>7.000000</td>\n",
       "      <td>3.000000</td>\n",
       "    </tr>\n",
       "    <tr>\n",
       "      <th>max</th>\n",
       "      <td>77.000000</td>\n",
       "      <td>1.000000</td>\n",
       "      <td>4.000000</td>\n",
       "      <td>190.000000</td>\n",
       "      <td>458.000000</td>\n",
       "      <td>1.000000</td>\n",
       "      <td>2.000000</td>\n",
       "      <td>180.000000</td>\n",
       "      <td>1.000000</td>\n",
       "      <td>4.000000</td>\n",
       "      <td>3.000000</td>\n",
       "      <td>0.0</td>\n",
       "      <td>7.000000</td>\n",
       "      <td>4.000000</td>\n",
       "    </tr>\n",
       "  </tbody>\n",
       "</table>\n",
       "</div>"
      ],
      "text/plain": [
       "              age         sex          cp    trestbps        chol         fbs  \\\n",
       "count  200.000000  200.000000  200.000000  200.000000  200.000000  200.000000   \n",
       "mean    59.350000    0.970000    3.505000  133.763889  178.746114    0.340000   \n",
       "std      7.811697    0.171015    0.795701   18.257507  112.011633    0.474898   \n",
       "min     35.000000    0.000000    1.000000    0.000000    0.000000    0.000000   \n",
       "25%     55.000000    1.000000    3.000000  125.750000  129.250000    0.000000   \n",
       "50%     60.000000    1.000000    4.000000  133.763889  214.000000    0.000000   \n",
       "75%     64.000000    1.000000    4.000000  140.000000  254.500000    1.000000   \n",
       "max     77.000000    1.000000    4.000000  190.000000  458.000000    1.000000   \n",
       "\n",
       "          restecg     thalach       exang     oldpeak       slope     ca  \\\n",
       "count  200.000000  200.000000  200.000000  200.000000  200.000000  200.0   \n",
       "mean     0.735000  122.795918    0.740000    0.951000    2.065000    0.0   \n",
       "std      0.683455   18.835692    0.439735    1.110344    0.471046    0.0   \n",
       "min      0.000000   69.000000    0.000000   -0.500000    1.000000    0.0   \n",
       "25%      0.000000  112.000000    0.000000    0.000000    2.000000    0.0   \n",
       "50%      1.000000  122.795918    1.000000    0.500000    2.000000    0.0   \n",
       "75%      1.000000  130.000000    1.000000    2.000000    2.000000    0.0   \n",
       "max      2.000000  180.000000    1.000000    4.000000    3.000000    0.0   \n",
       "\n",
       "             thal         num  \n",
       "count  200.000000  200.000000  \n",
       "mean     6.880000    1.520000  \n",
       "std      0.589353    1.219441  \n",
       "min      3.000000    0.000000  \n",
       "25%      7.000000    0.000000  \n",
       "50%      7.000000    1.000000  \n",
       "75%      7.000000    3.000000  \n",
       "max      7.000000    4.000000  "
      ]
     },
     "execution_count": 365,
     "metadata": {},
     "output_type": "execute_result"
    }
   ],
   "source": [
    "df.describe()"
   ]
  },
  {
   "cell_type": "markdown",
   "metadata": {},
   "source": [
    "There is no information from the ca column so we will drop that column"
   ]
  },
  {
   "cell_type": "code",
   "execution_count": 366,
   "metadata": {},
   "outputs": [],
   "source": [
    "df.drop('ca',axis = 1,inplace = True)"
   ]
  },
  {
   "cell_type": "markdown",
   "metadata": {},
   "source": [
    "### EDA"
   ]
  },
  {
   "cell_type": "code",
   "execution_count": 367,
   "metadata": {},
   "outputs": [
    {
     "data": {
      "text/html": [
       "<div>\n",
       "<style scoped>\n",
       "    .dataframe tbody tr th:only-of-type {\n",
       "        vertical-align: middle;\n",
       "    }\n",
       "\n",
       "    .dataframe tbody tr th {\n",
       "        vertical-align: top;\n",
       "    }\n",
       "\n",
       "    .dataframe thead th {\n",
       "        text-align: right;\n",
       "    }\n",
       "</style>\n",
       "<table border=\"1\" class=\"dataframe\">\n",
       "  <thead>\n",
       "    <tr style=\"text-align: right;\">\n",
       "      <th></th>\n",
       "      <th>age</th>\n",
       "      <th>sex</th>\n",
       "      <th>cp</th>\n",
       "      <th>trestbps</th>\n",
       "      <th>chol</th>\n",
       "      <th>fbs</th>\n",
       "      <th>restecg</th>\n",
       "      <th>thalach</th>\n",
       "      <th>exang</th>\n",
       "      <th>oldpeak</th>\n",
       "      <th>slope</th>\n",
       "      <th>thal</th>\n",
       "      <th>num</th>\n",
       "    </tr>\n",
       "  </thead>\n",
       "  <tbody>\n",
       "    <tr>\n",
       "      <th>age</th>\n",
       "      <td>1.000000</td>\n",
       "      <td>0.034230</td>\n",
       "      <td>-0.038280</td>\n",
       "      <td>0.181584</td>\n",
       "      <td>0.066972</td>\n",
       "      <td>0.135728</td>\n",
       "      <td>0.002400</td>\n",
       "      <td>-0.149949</td>\n",
       "      <td>0.129027</td>\n",
       "      <td>0.134659</td>\n",
       "      <td>0.107135</td>\n",
       "      <td>0.106313</td>\n",
       "      <td>0.287289</td>\n",
       "    </tr>\n",
       "    <tr>\n",
       "      <th>sex</th>\n",
       "      <td>0.034230</td>\n",
       "      <td>1.000000</td>\n",
       "      <td>0.038036</td>\n",
       "      <td>0.012585</td>\n",
       "      <td>-0.096150</td>\n",
       "      <td>-0.059400</td>\n",
       "      <td>0.060621</td>\n",
       "      <td>-0.001592</td>\n",
       "      <td>0.029402</td>\n",
       "      <td>0.058379</td>\n",
       "      <td>0.086709</td>\n",
       "      <td>-0.035898</td>\n",
       "      <td>0.147470</td>\n",
       "    </tr>\n",
       "    <tr>\n",
       "      <th>cp</th>\n",
       "      <td>-0.038280</td>\n",
       "      <td>0.038036</td>\n",
       "      <td>1.000000</td>\n",
       "      <td>0.074638</td>\n",
       "      <td>0.065818</td>\n",
       "      <td>-0.044416</td>\n",
       "      <td>0.034790</td>\n",
       "      <td>-0.123597</td>\n",
       "      <td>0.089904</td>\n",
       "      <td>0.186268</td>\n",
       "      <td>0.059460</td>\n",
       "      <td>-0.009430</td>\n",
       "      <td>0.168210</td>\n",
       "    </tr>\n",
       "    <tr>\n",
       "      <th>trestbps</th>\n",
       "      <td>0.181584</td>\n",
       "      <td>0.012585</td>\n",
       "      <td>0.074638</td>\n",
       "      <td>1.000000</td>\n",
       "      <td>0.150192</td>\n",
       "      <td>0.192337</td>\n",
       "      <td>0.092042</td>\n",
       "      <td>-0.013046</td>\n",
       "      <td>0.205900</td>\n",
       "      <td>0.105443</td>\n",
       "      <td>0.083459</td>\n",
       "      <td>0.068807</td>\n",
       "      <td>0.141719</td>\n",
       "    </tr>\n",
       "    <tr>\n",
       "      <th>chol</th>\n",
       "      <td>0.066972</td>\n",
       "      <td>-0.096150</td>\n",
       "      <td>0.065818</td>\n",
       "      <td>0.150192</td>\n",
       "      <td>1.000000</td>\n",
       "      <td>0.173396</td>\n",
       "      <td>0.024257</td>\n",
       "      <td>-0.041209</td>\n",
       "      <td>0.117050</td>\n",
       "      <td>-0.056530</td>\n",
       "      <td>0.043363</td>\n",
       "      <td>-0.037535</td>\n",
       "      <td>0.076444</td>\n",
       "    </tr>\n",
       "    <tr>\n",
       "      <th>fbs</th>\n",
       "      <td>0.135728</td>\n",
       "      <td>-0.059400</td>\n",
       "      <td>-0.044416</td>\n",
       "      <td>0.192337</td>\n",
       "      <td>0.173396</td>\n",
       "      <td>1.000000</td>\n",
       "      <td>0.170616</td>\n",
       "      <td>0.037972</td>\n",
       "      <td>-0.176144</td>\n",
       "      <td>-0.138832</td>\n",
       "      <td>-0.009435</td>\n",
       "      <td>-0.033036</td>\n",
       "      <td>0.048940</td>\n",
       "    </tr>\n",
       "    <tr>\n",
       "      <th>restecg</th>\n",
       "      <td>0.002400</td>\n",
       "      <td>0.060621</td>\n",
       "      <td>0.034790</td>\n",
       "      <td>0.092042</td>\n",
       "      <td>0.024257</td>\n",
       "      <td>0.170616</td>\n",
       "      <td>1.000000</td>\n",
       "      <td>0.012348</td>\n",
       "      <td>-0.063203</td>\n",
       "      <td>-0.115200</td>\n",
       "      <td>-0.039881</td>\n",
       "      <td>0.020460</td>\n",
       "      <td>-0.032800</td>\n",
       "    </tr>\n",
       "    <tr>\n",
       "      <th>thalach</th>\n",
       "      <td>-0.149949</td>\n",
       "      <td>-0.001592</td>\n",
       "      <td>-0.123597</td>\n",
       "      <td>-0.013046</td>\n",
       "      <td>-0.041209</td>\n",
       "      <td>0.037972</td>\n",
       "      <td>0.012348</td>\n",
       "      <td>1.000000</td>\n",
       "      <td>-0.070142</td>\n",
       "      <td>0.106710</td>\n",
       "      <td>-0.107241</td>\n",
       "      <td>-0.177857</td>\n",
       "      <td>-0.079077</td>\n",
       "    </tr>\n",
       "    <tr>\n",
       "      <th>exang</th>\n",
       "      <td>0.129027</td>\n",
       "      <td>0.029402</td>\n",
       "      <td>0.089904</td>\n",
       "      <td>0.205900</td>\n",
       "      <td>0.117050</td>\n",
       "      <td>-0.176144</td>\n",
       "      <td>-0.063203</td>\n",
       "      <td>-0.070142</td>\n",
       "      <td>1.000000</td>\n",
       "      <td>0.073608</td>\n",
       "      <td>0.106259</td>\n",
       "      <td>0.150467</td>\n",
       "      <td>0.206541</td>\n",
       "    </tr>\n",
       "    <tr>\n",
       "      <th>oldpeak</th>\n",
       "      <td>0.134659</td>\n",
       "      <td>0.058379</td>\n",
       "      <td>0.186268</td>\n",
       "      <td>0.105443</td>\n",
       "      <td>-0.056530</td>\n",
       "      <td>-0.138832</td>\n",
       "      <td>-0.115200</td>\n",
       "      <td>0.106710</td>\n",
       "      <td>0.073608</td>\n",
       "      <td>1.000000</td>\n",
       "      <td>0.293395</td>\n",
       "      <td>0.075440</td>\n",
       "      <td>0.383736</td>\n",
       "    </tr>\n",
       "    <tr>\n",
       "      <th>slope</th>\n",
       "      <td>0.107135</td>\n",
       "      <td>0.086709</td>\n",
       "      <td>0.059460</td>\n",
       "      <td>0.083459</td>\n",
       "      <td>0.043363</td>\n",
       "      <td>-0.009435</td>\n",
       "      <td>-0.039881</td>\n",
       "      <td>-0.107241</td>\n",
       "      <td>0.106259</td>\n",
       "      <td>0.293395</td>\n",
       "      <td>1.000000</td>\n",
       "      <td>0.010137</td>\n",
       "      <td>0.142072</td>\n",
       "    </tr>\n",
       "    <tr>\n",
       "      <th>thal</th>\n",
       "      <td>0.106313</td>\n",
       "      <td>-0.035898</td>\n",
       "      <td>-0.009430</td>\n",
       "      <td>0.068807</td>\n",
       "      <td>-0.037535</td>\n",
       "      <td>-0.033036</td>\n",
       "      <td>0.020460</td>\n",
       "      <td>-0.177857</td>\n",
       "      <td>0.150467</td>\n",
       "      <td>0.075440</td>\n",
       "      <td>0.010137</td>\n",
       "      <td>1.000000</td>\n",
       "      <td>0.080270</td>\n",
       "    </tr>\n",
       "    <tr>\n",
       "      <th>num</th>\n",
       "      <td>0.287289</td>\n",
       "      <td>0.147470</td>\n",
       "      <td>0.168210</td>\n",
       "      <td>0.141719</td>\n",
       "      <td>0.076444</td>\n",
       "      <td>0.048940</td>\n",
       "      <td>-0.032800</td>\n",
       "      <td>-0.079077</td>\n",
       "      <td>0.206541</td>\n",
       "      <td>0.383736</td>\n",
       "      <td>0.142072</td>\n",
       "      <td>0.080270</td>\n",
       "      <td>1.000000</td>\n",
       "    </tr>\n",
       "  </tbody>\n",
       "</table>\n",
       "</div>"
      ],
      "text/plain": [
       "               age       sex        cp  trestbps      chol       fbs  \\\n",
       "age       1.000000  0.034230 -0.038280  0.181584  0.066972  0.135728   \n",
       "sex       0.034230  1.000000  0.038036  0.012585 -0.096150 -0.059400   \n",
       "cp       -0.038280  0.038036  1.000000  0.074638  0.065818 -0.044416   \n",
       "trestbps  0.181584  0.012585  0.074638  1.000000  0.150192  0.192337   \n",
       "chol      0.066972 -0.096150  0.065818  0.150192  1.000000  0.173396   \n",
       "fbs       0.135728 -0.059400 -0.044416  0.192337  0.173396  1.000000   \n",
       "restecg   0.002400  0.060621  0.034790  0.092042  0.024257  0.170616   \n",
       "thalach  -0.149949 -0.001592 -0.123597 -0.013046 -0.041209  0.037972   \n",
       "exang     0.129027  0.029402  0.089904  0.205900  0.117050 -0.176144   \n",
       "oldpeak   0.134659  0.058379  0.186268  0.105443 -0.056530 -0.138832   \n",
       "slope     0.107135  0.086709  0.059460  0.083459  0.043363 -0.009435   \n",
       "thal      0.106313 -0.035898 -0.009430  0.068807 -0.037535 -0.033036   \n",
       "num       0.287289  0.147470  0.168210  0.141719  0.076444  0.048940   \n",
       "\n",
       "           restecg   thalach     exang   oldpeak     slope      thal       num  \n",
       "age       0.002400 -0.149949  0.129027  0.134659  0.107135  0.106313  0.287289  \n",
       "sex       0.060621 -0.001592  0.029402  0.058379  0.086709 -0.035898  0.147470  \n",
       "cp        0.034790 -0.123597  0.089904  0.186268  0.059460 -0.009430  0.168210  \n",
       "trestbps  0.092042 -0.013046  0.205900  0.105443  0.083459  0.068807  0.141719  \n",
       "chol      0.024257 -0.041209  0.117050 -0.056530  0.043363 -0.037535  0.076444  \n",
       "fbs       0.170616  0.037972 -0.176144 -0.138832 -0.009435 -0.033036  0.048940  \n",
       "restecg   1.000000  0.012348 -0.063203 -0.115200 -0.039881  0.020460 -0.032800  \n",
       "thalach   0.012348  1.000000 -0.070142  0.106710 -0.107241 -0.177857 -0.079077  \n",
       "exang    -0.063203 -0.070142  1.000000  0.073608  0.106259  0.150467  0.206541  \n",
       "oldpeak  -0.115200  0.106710  0.073608  1.000000  0.293395  0.075440  0.383736  \n",
       "slope    -0.039881 -0.107241  0.106259  0.293395  1.000000  0.010137  0.142072  \n",
       "thal      0.020460 -0.177857  0.150467  0.075440  0.010137  1.000000  0.080270  \n",
       "num      -0.032800 -0.079077  0.206541  0.383736  0.142072  0.080270  1.000000  "
      ]
     },
     "execution_count": 367,
     "metadata": {},
     "output_type": "execute_result"
    }
   ],
   "source": [
    "df_corr = df.corr()\n",
    "df_corr"
   ]
  },
  {
   "cell_type": "code",
   "execution_count": 368,
   "metadata": {},
   "outputs": [
    {
     "data": {
      "image/png": "[encoded data removed]",
      "text/plain": [
       "<Figure size 1080x720 with 2 Axes>"
      ]
     },
     "metadata": {
      "needs_background": "light"
     },
     "output_type": "display_data"
    }
   ],
   "source": [
    "plt.figure(figsize=(15,10))\n",
    "sns.heatmap(df_corr,annot =True, fmt= '.0%')\n",
    "plt.show()"
   ]
  },
  {
   "cell_type": "code",
   "execution_count": 369,
   "metadata": {},
   "outputs": [
    {
     "data": {
      "image/png": "[encoded data removed]",
      "text/plain": [
       "<Figure size 576x432 with 1 Axes>"
      ]
     },
     "metadata": {
      "needs_background": "light"
     },
     "output_type": "display_data"
    }
   ],
   "source": [
    "plt.figure(figsize=(8,6))\n",
    "df.drop('num',axis =1).corrwith(df['num']).plot(kind = 'bar',grid = True)\n",
    "plt.xticks(rotation =20)\n",
    "plt.title('correlation with target varable')\n",
    "plt.show()"
   ]
  },
  {
   "cell_type": "markdown",
   "metadata": {},
   "source": [
    "### Data Visualization"
   ]
  },
  {
   "cell_type": "markdown",
   "metadata": {},
   "source": [
    "###  Univariate Analysis"
   ]
  },
  {
   "cell_type": "code",
   "execution_count": 370,
   "metadata": {},
   "outputs": [
    {
     "data": {
      "image/png": "[encoded data removed]",
      "text/plain": [
       "<Figure size 432x288 with 1 Axes>"
      ]
     },
     "metadata": {
      "needs_background": "light"
     },
     "output_type": "display_data"
    },
    {
     "name": "stdout",
     "output_type": "stream",
     "text": [
      "1    56\n",
      "0    51\n",
      "3    42\n",
      "2    41\n",
      "4    10\n",
      "Name: num, dtype: int64\n"
     ]
    }
   ],
   "source": [
    "plt.subplots(figsize =(6,4))\n",
    "sns.countplot(x='num', data = df)\n",
    "plt.title('classification of patients')\n",
    "plt.xlabel('presence of disease')\n",
    "plt.ylabel('counts')\n",
    "plt.show()\n",
    "\n",
    "print(df.num.value_counts())"
   ]
  },
  {
   "cell_type": "raw",
   "metadata": {},
   "source": [
    "Observation:\n",
    "Slight presence of heart disease is higher in number\n",
    "There 51 members dont have any heart disease\n",
    "The major heart disease is for category 3 and 4 which have the numbers of 42 and 10"
   ]
  },
  {
   "cell_type": "code",
   "execution_count": 371,
   "metadata": {},
   "outputs": [
    {
     "data": {
      "image/png": "[encoded data removed]",
      "text/plain": [
       "<Figure size 432x288 with 1 Axes>"
      ]
     },
     "metadata": {
      "needs_background": "light"
     },
     "output_type": "display_data"
    },
    {
     "name": "stdout",
     "output_type": "stream",
     "text": [
      "1    194\n",
      "0      6\n",
      "Name: sex, dtype: int64\n"
     ]
    }
   ],
   "source": [
    "plt.subplots(figsize =(6,4))\n",
    "sns.countplot(x='sex', data = df)\n",
    "plt.title('classification of patients')\n",
    "plt.xlabel('sex')\n",
    "plt.ylabel('counts')\n",
    "plt.show()\n",
    "\n",
    "print(df.sex.value_counts())"
   ]
  },
  {
   "cell_type": "raw",
   "metadata": {},
   "source": [
    "Observation:\n",
    "There are only 6 female\n",
    "The rest 194 are males"
   ]
  },
  {
   "cell_type": "code",
   "execution_count": 372,
   "metadata": {},
   "outputs": [
    {
     "data": {
      "image/png": "[encoded data removed]",
      "text/plain": [
       "<Figure size 576x432 with 1 Axes>"
      ]
     },
     "metadata": {
      "needs_background": "light"
     },
     "output_type": "display_data"
    },
    {
     "name": "stdout",
     "output_type": "stream",
     "text": [
      "7    188\n",
      "6      8\n",
      "3      4\n",
      "Name: thal, dtype: int64\n"
     ]
    }
   ],
   "source": [
    "plt.subplots(figsize=(8,6))\n",
    "sns.countplot(x='thal',data=df,palette='rocket')\n",
    "plt.title('thal stress result')\n",
    "plt.xlabel('thal')\n",
    "plt.ylabel('counts')\n",
    "plt.show()\n",
    "\n",
    "print(df.thal.value_counts())"
   ]
  },
  {
   "cell_type": "raw",
   "metadata": {},
   "source": [
    "Observation:\n",
    " From this it is clear that reversable defect which is denoted by 7 is high in numbers.\n",
    " ie chances for heart desease is high for these people"
   ]
  },
  {
   "cell_type": "markdown",
   "metadata": {},
   "source": [
    "### Bivariate Analysis"
   ]
  },
  {
   "cell_type": "code",
   "execution_count": 373,
   "metadata": {},
   "outputs": [
    {
     "data": {
      "image/png": "[encoded data removed]",
      "text/plain": [
       "<Figure size 576x432 with 1 Axes>"
      ]
     },
     "metadata": {
      "needs_background": "light"
     },
     "output_type": "display_data"
    },
    {
     "name": "stdout",
     "output_type": "stream",
     "text": [
      "cp  num\n",
      "1   0       3\n",
      "    3       3\n",
      "    1       1\n",
      "    2       1\n",
      "2   0       9\n",
      "    1       4\n",
      "    2       1\n",
      "3   0      16\n",
      "    3      11\n",
      "    1       9\n",
      "    2       8\n",
      "    4       3\n",
      "4   1      42\n",
      "    2      31\n",
      "    3      28\n",
      "    0      23\n",
      "    4       7\n",
      "Name: num, dtype: int64\n"
     ]
    }
   ],
   "source": [
    "plt.subplots(figsize=(8,6))\n",
    "sns.countplot(x='cp',hue='num',data= df)\n",
    "plt.title('The affect of chest pain with num')\n",
    "plt.xlabel('chest pain')\n",
    "plt.ylabel('counts')\n",
    "plt.show()\n",
    "\n",
    "\n",
    "print(df.groupby('cp')['num'].value_counts())"
   ]
  },
  {
   "cell_type": "raw",
   "metadata": {},
   "source": [
    "Observation:\n",
    "    From this it is clear that chest pain is more seen in seviour heart patients which is category 4.They have more number of heart attacks\n",
    "   "
   ]
  },
  {
   "cell_type": "code",
   "execution_count": 374,
   "metadata": {},
   "outputs": [
    {
     "data": {
      "text/plain": [
       "<matplotlib.axes._subplots.AxesSubplot at 0x186f1c73288>"
      ]
     },
     "execution_count": 374,
     "metadata": {},
     "output_type": "execute_result"
    },
    {
     "data": {
      "image/png": "[encoded data removed]",
      "text/plain": [
       "<Figure size 432x288 with 1 Axes>"
      ]
     },
     "metadata": {
      "needs_background": "light"
     },
     "output_type": "display_data"
    }
   ],
   "source": [
    "sns.countplot(x='cp',hue='sex',palette='BrBG',data = df)"
   ]
  },
  {
   "cell_type": "raw",
   "metadata": {},
   "source": [
    "Observation:\n",
    "We can see that chest pain is more for males. Especially a huge no in 4th category"
   ]
  },
  {
   "cell_type": "code",
   "execution_count": 375,
   "metadata": {},
   "outputs": [
    {
     "data": {
      "image/png": "[encoded data removed]",
      "text/plain": [
       "<Figure size 576x432 with 1 Axes>"
      ]
     },
     "metadata": {
      "needs_background": "light"
     },
     "output_type": "display_data"
    },
    {
     "name": "stdout",
     "output_type": "stream",
     "text": [
      "fbs  num\n",
      "0    0      37\n",
      "     1      34\n",
      "     2      28\n",
      "     3      27\n",
      "     4       6\n",
      "1    1      22\n",
      "     3      15\n",
      "     0      14\n",
      "     2      13\n",
      "     4       4\n",
      "Name: num, dtype: int64\n"
     ]
    }
   ],
   "source": [
    "plt.subplots(figsize=(8,6))\n",
    "sns.countplot(x='fbs',hue = 'num',data =df)\n",
    "plt.title('affect of fasting blood sugar with num')\n",
    "plt.xlabel('fasting blood sugar')\n",
    "plt.ylabel('counts')\n",
    "plt.show()\n",
    "\n",
    "print(df.groupby('fbs')['num'].value_counts())"
   ]
  },
  {
   "cell_type": "raw",
   "metadata": {},
   "source": [
    "Observation:\n",
    " From this it is clear that fbs is more seen in category number 1 people"
   ]
  },
  {
   "cell_type": "code",
   "execution_count": 376,
   "metadata": {},
   "outputs": [
    {
     "data": {
      "image/png": "[encoded data removed]",
      "text/plain": [
       "<Figure size 576x432 with 1 Axes>"
      ]
     },
     "metadata": {
      "needs_background": "light"
     },
     "output_type": "display_data"
    },
    {
     "name": "stdout",
     "output_type": "stream",
     "text": [
      "restecg  num\n",
      "0        1      26\n",
      "         3      19\n",
      "         0      18\n",
      "         2      14\n",
      "         4       3\n",
      "1        0      25\n",
      "         2      24\n",
      "         1      20\n",
      "         3      20\n",
      "         4       4\n",
      "2        1      10\n",
      "         0       8\n",
      "         2       3\n",
      "         3       3\n",
      "         4       3\n",
      "Name: num, dtype: int64\n"
     ]
    }
   ],
   "source": [
    "plt.subplots(figsize=(8,6))\n",
    "sns.countplot(x='restecg',hue = 'num',data =df)\n",
    "plt.title('affect of resting ecg with num')\n",
    "plt.xlabel('resting ecg')\n",
    "plt.ylabel('counts')\n",
    "plt.show()\n",
    "\n",
    "print(df.groupby('restecg')['num'].value_counts())"
   ]
  },
  {
   "cell_type": "code",
   "execution_count": 377,
   "metadata": {},
   "outputs": [
    {
     "data": {
      "text/plain": [
       "<matplotlib.axes._subplots.AxesSubplot at 0x186f2e817c8>"
      ]
     },
     "execution_count": 377,
     "metadata": {},
     "output_type": "execute_result"
    },
    {
     "data": {
      "image/png": "[encoded data removed]",
      "text/plain": [
       "<Figure size 432x288 with 1 Axes>"
      ]
     },
     "metadata": {
      "needs_background": "light"
     },
     "output_type": "display_data"
    }
   ],
   "source": [
    "sns.countplot(x='thal',hue='sex',palette='plasma',data =df )"
   ]
  },
  {
   "cell_type": "raw",
   "metadata": {},
   "source": [
    "All the female and majority male are coming under reversable defect category(which is 7)"
   ]
  },
  {
   "cell_type": "code",
   "execution_count": 378,
   "metadata": {},
   "outputs": [
    {
     "data": {
      "text/plain": [
       "<matplotlib.axes._subplots.AxesSubplot at 0x186f30357c8>"
      ]
     },
     "execution_count": 378,
     "metadata": {},
     "output_type": "execute_result"
    },
    {
     "data": {
      "image/png": "[encoded data removed]",
      "text/plain": [
       "<Figure size 432x288 with 1 Axes>"
      ]
     },
     "metadata": {
      "needs_background": "light"
     },
     "output_type": "display_data"
    }
   ],
   "source": [
    "sns.barplot(x='fbs',y='chol',hue='num',palette='viridis',data = df)"
   ]
  },
  {
   "cell_type": "raw",
   "metadata": {},
   "source": [
    "Observation:\n",
    "From this it is clear that those who have fbs, cholestrol is also high. That is for the 4 the category in num"
   ]
  },
  {
   "cell_type": "code",
   "execution_count": 379,
   "metadata": {},
   "outputs": [
    {
     "data": {
      "text/plain": [
       "array([[<matplotlib.axes._subplots.AxesSubplot object at 0x00000186F3133A08>,\n",
       "        <matplotlib.axes._subplots.AxesSubplot object at 0x00000186F3530E08>,\n",
       "        <matplotlib.axes._subplots.AxesSubplot object at 0x00000186F0D7B048>],\n",
       "       [<matplotlib.axes._subplots.AxesSubplot object at 0x00000186F2EEBC08>,\n",
       "        <matplotlib.axes._subplots.AxesSubplot object at 0x00000186F1BFB848>,\n",
       "        <matplotlib.axes._subplots.AxesSubplot object at 0x00000186F1DAD448>],\n",
       "       [<matplotlib.axes._subplots.AxesSubplot object at 0x00000186F1E20F88>,\n",
       "        <matplotlib.axes._subplots.AxesSubplot object at 0x00000186F1E5ABC8>,\n",
       "        <matplotlib.axes._subplots.AxesSubplot object at 0x00000186F1E676C8>],\n",
       "       [<matplotlib.axes._subplots.AxesSubplot object at 0x00000186F1E9F388>,\n",
       "        <matplotlib.axes._subplots.AxesSubplot object at 0x00000186F1F41FC8>,\n",
       "        <matplotlib.axes._subplots.AxesSubplot object at 0x00000186F1FBCB48>],\n",
       "       [<matplotlib.axes._subplots.AxesSubplot object at 0x00000186F1FFCE88>,\n",
       "        <matplotlib.axes._subplots.AxesSubplot object at 0x00000186F202F348>,\n",
       "        <matplotlib.axes._subplots.AxesSubplot object at 0x00000186F2069188>]],\n",
       "      dtype=object)"
      ]
     },
     "execution_count": 379,
     "metadata": {},
     "output_type": "execute_result"
    },
    {
     "data": {
      "image/png": "[encoded data removed]",
      "text/plain": [
       "<Figure size 1080x864 with 15 Axes>"
      ]
     },
     "metadata": {
      "needs_background": "light"
     },
     "output_type": "display_data"
    }
   ],
   "source": [
    "df.hist(figsize=(15,12),layout=(5,3))"
   ]
  },
  {
   "cell_type": "raw",
   "metadata": {},
   "source": [
    "Observation:\n",
    "People having 'cp'(chest pain) is high.\n",
    "Min age is near 35 and maximum is just above 75 \n",
    "Most of them are free from Fasting blood sugar(fbs), only a small amount of people are there with fbs\n",
    "The target is 'num' which is from 0 to 4. In that 0 means no heart problems and 1 to 4 shows the increase in presence of heart problems.\n",
    "No of exercise induced angina(exang) is high.\n",
    "In sex 0 means female and 1 means male.\n",
    "In 'thal' reversible defect(marked as 7) is more, ie, chances to come heart diseased problems is high.\n"
   ]
  },
  {
   "cell_type": "code",
   "execution_count": 380,
   "metadata": {},
   "outputs": [
    {
     "data": {
      "image/png": "[encoded data removed]",
      "text/plain": [
       "<Figure size 1080x720 with 15 Axes>"
      ]
     },
     "metadata": {
      "needs_background": "light"
     },
     "output_type": "display_data"
    }
   ],
   "source": [
    "df.plot(kind='box',subplots= True,layout=(5,3),figsize=(15,10))\n",
    "plt.show()"
   ]
  },
  {
   "cell_type": "raw",
   "metadata": {},
   "source": [
    "Observation:\n",
    "We can see that there are some outliers in certain columns\n",
    "The outliers are in age, sex, trestbps,thalach,slope, thal,chol and cp"
   ]
  },
  {
   "cell_type": "code",
   "execution_count": 381,
   "metadata": {},
   "outputs": [
    {
     "data": {
      "text/plain": [
       "<seaborn.axisgrid.FacetGrid at 0x186f2ab56c8>"
      ]
     },
     "execution_count": 381,
     "metadata": {},
     "output_type": "execute_result"
    },
    {
     "data": {
      "image/png": "[encoded data removed]",
      "text/plain": [
       "<Figure size 402.375x360 with 1 Axes>"
      ]
     },
     "metadata": {
      "needs_background": "light"
     },
     "output_type": "display_data"
    }
   ],
   "source": [
    "sns.catplot(data =df,x='sex',y='age', hue='num',palette ='terrain')"
   ]
  },
  {
   "cell_type": "raw",
   "metadata": {},
   "source": [
    "Observation::\n",
    "The major are males. In that major heart disease is seen at the age above 50."
   ]
  },
  {
   "cell_type": "markdown",
   "metadata": {},
   "source": [
    "### Removing the outliers"
   ]
  },
  {
   "cell_type": "code",
   "execution_count": 382,
   "metadata": {},
   "outputs": [
    {
     "data": {
      "text/plain": [
       "(array([ 12,  24,  33,  51,  66,  70,  72,  76,  79,  96,  97, 126, 128,\n",
       "        131, 133, 137, 171, 176, 189, 190, 194, 195, 196], dtype=int64),\n",
       " array([11,  7,  3,  1,  2,  7,  2,  2,  1,  0,  2,  1,  1,  2,  2,  2, 11,\n",
       "         3, 11,  1, 11,  1,  2], dtype=int64))"
      ]
     },
     "execution_count": 382,
     "metadata": {},
     "output_type": "execute_result"
    }
   ],
   "source": [
    "from scipy.stats import zscore\n",
    "import numpy as np\n",
    "z = np.abs(zscore(df))\n",
    "threshold = 3\n",
    "np.where(z>3)"
   ]
  },
  {
   "cell_type": "code",
   "execution_count": 383,
   "metadata": {},
   "outputs": [],
   "source": [
    "df_new = df[(z<3).all(axis=1)]"
   ]
  },
  {
   "cell_type": "code",
   "execution_count": 384,
   "metadata": {},
   "outputs": [
    {
     "data": {
      "text/plain": [
       "(177, 13)"
      ]
     },
     "execution_count": 384,
     "metadata": {},
     "output_type": "execute_result"
    }
   ],
   "source": [
    "df_new.shape"
   ]
  },
  {
   "cell_type": "code",
   "execution_count": 385,
   "metadata": {},
   "outputs": [
    {
     "name": "stdout",
     "output_type": "stream",
     "text": [
      "(177, 13) \t\t (200, 13)\n"
     ]
    }
   ],
   "source": [
    "print(df_new.shape, '\\t\\t', df.shape)"
   ]
  },
  {
   "cell_type": "markdown",
   "metadata": {},
   "source": [
    "### Model Building"
   ]
  },
  {
   "cell_type": "code",
   "execution_count": 386,
   "metadata": {},
   "outputs": [],
   "source": [
    "from sklearn.preprocessing import StandardScaler\n",
    "sc = StandardScaler()\n",
    "std_columns = ['age','trestbps','chol','thalach','oldpeak']\n",
    "df_new[std_columns] = sc.fit_transform(df_new[std_columns])"
   ]
  },
  {
   "cell_type": "code",
   "execution_count": 387,
   "metadata": {},
   "outputs": [
    {
     "data": {
      "text/html": [
       "<div>\n",
       "<style scoped>\n",
       "    .dataframe tbody tr th:only-of-type {\n",
       "        vertical-align: middle;\n",
       "    }\n",
       "\n",
       "    .dataframe tbody tr th {\n",
       "        vertical-align: top;\n",
       "    }\n",
       "\n",
       "    .dataframe thead th {\n",
       "        text-align: right;\n",
       "    }\n",
       "</style>\n",
       "<table border=\"1\" class=\"dataframe\">\n",
       "  <thead>\n",
       "    <tr style=\"text-align: right;\">\n",
       "      <th></th>\n",
       "      <th>age</th>\n",
       "      <th>sex</th>\n",
       "      <th>cp</th>\n",
       "      <th>trestbps</th>\n",
       "      <th>chol</th>\n",
       "      <th>fbs</th>\n",
       "      <th>restecg</th>\n",
       "      <th>thalach</th>\n",
       "      <th>exang</th>\n",
       "      <th>oldpeak</th>\n",
       "      <th>slope</th>\n",
       "      <th>thal</th>\n",
       "      <th>num</th>\n",
       "    </tr>\n",
       "  </thead>\n",
       "  <tbody>\n",
       "    <tr>\n",
       "      <th>0</th>\n",
       "      <td>0.455808</td>\n",
       "      <td>1</td>\n",
       "      <td>4</td>\n",
       "      <td>0.342887</td>\n",
       "      <td>0.742777</td>\n",
       "      <td>0</td>\n",
       "      <td>1</td>\n",
       "      <td>-0.523570</td>\n",
       "      <td>1</td>\n",
       "      <td>1.814975</td>\n",
       "      <td>2</td>\n",
       "      <td>7</td>\n",
       "      <td>2</td>\n",
       "    </tr>\n",
       "    <tr>\n",
       "      <th>1</th>\n",
       "      <td>-2.069533</td>\n",
       "      <td>1</td>\n",
       "      <td>4</td>\n",
       "      <td>-0.302209</td>\n",
       "      <td>0.286396</td>\n",
       "      <td>0</td>\n",
       "      <td>1</td>\n",
       "      <td>0.325899</td>\n",
       "      <td>0</td>\n",
       "      <td>-0.867329</td>\n",
       "      <td>2</td>\n",
       "      <td>7</td>\n",
       "      <td>0</td>\n",
       "    </tr>\n",
       "    <tr>\n",
       "      <th>2</th>\n",
       "      <td>0.057070</td>\n",
       "      <td>1</td>\n",
       "      <td>4</td>\n",
       "      <td>-0.173190</td>\n",
       "      <td>0.366934</td>\n",
       "      <td>0</td>\n",
       "      <td>1</td>\n",
       "      <td>1.062107</td>\n",
       "      <td>1</td>\n",
       "      <td>0.473823</td>\n",
       "      <td>3</td>\n",
       "      <td>7</td>\n",
       "      <td>2</td>\n",
       "    </tr>\n",
       "    <tr>\n",
       "      <th>3</th>\n",
       "      <td>-0.607494</td>\n",
       "      <td>1</td>\n",
       "      <td>4</td>\n",
       "      <td>0.471906</td>\n",
       "      <td>0.456421</td>\n",
       "      <td>0</td>\n",
       "      <td>1</td>\n",
       "      <td>1.571788</td>\n",
       "      <td>1</td>\n",
       "      <td>1.367925</td>\n",
       "      <td>1</td>\n",
       "      <td>7</td>\n",
       "      <td>1</td>\n",
       "    </tr>\n",
       "    <tr>\n",
       "      <th>4</th>\n",
       "      <td>0.854546</td>\n",
       "      <td>1</td>\n",
       "      <td>3</td>\n",
       "      <td>-1.592402</td>\n",
       "      <td>0.322191</td>\n",
       "      <td>1</td>\n",
       "      <td>2</td>\n",
       "      <td>-1.259777</td>\n",
       "      <td>1</td>\n",
       "      <td>0.295003</td>\n",
       "      <td>2</td>\n",
       "      <td>7</td>\n",
       "      <td>0</td>\n",
       "    </tr>\n",
       "  </tbody>\n",
       "</table>\n",
       "</div>"
      ],
      "text/plain": [
       "        age  sex  cp  trestbps      chol  fbs  restecg   thalach  exang  \\\n",
       "0  0.455808    1   4  0.342887  0.742777    0        1 -0.523570      1   \n",
       "1 -2.069533    1   4 -0.302209  0.286396    0        1  0.325899      0   \n",
       "2  0.057070    1   4 -0.173190  0.366934    0        1  1.062107      1   \n",
       "3 -0.607494    1   4  0.471906  0.456421    0        1  1.571788      1   \n",
       "4  0.854546    1   3 -1.592402  0.322191    1        2 -1.259777      1   \n",
       "\n",
       "    oldpeak  slope  thal  num  \n",
       "0  1.814975      2     7    2  \n",
       "1 -0.867329      2     7    0  \n",
       "2  0.473823      3     7    2  \n",
       "3  1.367925      1     7    1  \n",
       "4  0.295003      2     7    0  "
      ]
     },
     "execution_count": 387,
     "metadata": {},
     "output_type": "execute_result"
    }
   ],
   "source": [
    "df_new.head()"
   ]
  },
  {
   "cell_type": "code",
   "execution_count": 388,
   "metadata": {},
   "outputs": [],
   "source": [
    "from sklearn.model_selection import train_test_split"
   ]
  },
  {
   "cell_type": "code",
   "execution_count": 390,
   "metadata": {},
   "outputs": [],
   "source": [
    "x = df_new.drop(['num'],axis=1)\n",
    "y = df_new['num']"
   ]
  },
  {
   "cell_type": "code",
   "execution_count": 404,
   "metadata": {},
   "outputs": [
    {
     "data": {
      "text/plain": [
       "(177,)"
      ]
     },
     "execution_count": 404,
     "metadata": {},
     "output_type": "execute_result"
    }
   ],
   "source": [
    "y.shape"
   ]
  },
  {
   "cell_type": "code",
   "execution_count": 392,
   "metadata": {},
   "outputs": [],
   "source": [
    "x_train,x_test,y_train,y_test= train_test_split(x,y,test_size=.3,random_state=42)"
   ]
  },
  {
   "cell_type": "code",
   "execution_count": 393,
   "metadata": {},
   "outputs": [
    {
     "name": "stdout",
     "output_type": "stream",
     "text": [
      "(123, 12) \t\t (54, 12)\n"
     ]
    }
   ],
   "source": [
    "print(x_train.shape,'\\t\\t',x_test.shape)"
   ]
  },
  {
   "cell_type": "code",
   "execution_count": 413,
   "metadata": {},
   "outputs": [],
   "source": [
    "from sklearn.linear_model import LinearRegression\n",
    "from sklearn.svm import SVR\n",
    "from sklearn.tree import DecisionTreeRegressor\n",
    "from sklearn.neighbors import KNeighborsRegressor\n",
    "from sklearn.ensemble import RandomForestRegressor\n",
    "from sklearn.linear_model import Lasso\n",
    "from sklearn.linear_model import Ridge"
   ]
  },
  {
   "cell_type": "code",
   "execution_count": 414,
   "metadata": {},
   "outputs": [],
   "source": [
    "from sklearn.metrics import mean_squared_error,mean_absolute_error\n",
    "from sklearn.metrics import r2_score"
   ]
  },
  {
   "cell_type": "code",
   "execution_count": 416,
   "metadata": {},
   "outputs": [
    {
     "name": "stdout",
     "output_type": "stream",
     "text": [
      "score of  LinearRegression(copy_X=True, fit_intercept=True, n_jobs=None, normalize=False)  is  0.22959549434731408\n",
      "Error: \n",
      "mean_absolute_error:  0.7766166110311103\n",
      "mean_squared_error:  1.0095726572169392\n",
      "Root_mean_squared_error:  1.0047749286367267\n",
      "r2_score:  0.23494961838757933\n",
      "******************************************************************\n",
      "\n",
      "\n",
      "score of  SVR(C=1.0, cache_size=200, coef0=0.0, degree=3, epsilon=0.1, gamma='scale',\n",
      "    kernel='rbf', max_iter=-1, shrinking=True, tol=0.001, verbose=False)  is  0.17915835262413105\n",
      "Error: \n",
      "mean_absolute_error:  0.7887040241542336\n",
      "mean_squared_error:  0.971883720890027\n",
      "Root_mean_squared_error:  0.9858416307348898\n",
      "r2_score:  0.2635101532964348\n",
      "******************************************************************\n",
      "\n",
      "\n",
      "score of  DecisionTreeRegressor(ccp_alpha=0.0, criterion='mse', max_depth=None,\n",
      "                      max_features=None, max_leaf_nodes=None,\n",
      "                      min_impurity_decrease=0.0, min_impurity_split=None,\n",
      "                      min_samples_leaf=1, min_samples_split=2,\n",
      "                      min_weight_fraction_leaf=0.0, presort='deprecated',\n",
      "                      random_state=None, splitter='best')  is  1.0\n",
      "Error: \n",
      "mean_absolute_error:  1.2592592592592593\n",
      "mean_squared_error:  2.4074074074074074\n",
      "Root_mean_squared_error:  1.551582227085438\n",
      "r2_score:  -0.8243243243243246\n",
      "******************************************************************\n",
      "\n",
      "\n",
      "score of  KNeighborsRegressor(algorithm='auto', leaf_size=30, metric='minkowski',\n",
      "                    metric_params=None, n_jobs=None, n_neighbors=5, p=2,\n",
      "                    weights='uniform')  is  0.3453278761455645\n",
      "Error: \n",
      "mean_absolute_error:  0.8111111111111112\n",
      "mean_squared_error:  0.9977777777777777\n",
      "Root_mean_squared_error:  0.998888270918113\n",
      "r2_score:  0.24388773388773388\n",
      "******************************************************************\n",
      "\n",
      "\n",
      "score of  RandomForestRegressor(bootstrap=True, ccp_alpha=0.0, criterion='mse',\n",
      "                      max_depth=None, max_features='auto', max_leaf_nodes=None,\n",
      "                      max_samples=None, min_impurity_decrease=0.0,\n",
      "                      min_impurity_split=None, min_samples_leaf=1,\n",
      "                      min_samples_split=2, min_weight_fraction_leaf=0.0,\n",
      "                      n_estimators=100, n_jobs=None, oob_score=False,\n",
      "                      random_state=None, verbose=0, warm_start=False)  is  0.8585598496307499\n",
      "Error: \n",
      "mean_absolute_error:  0.7455555555555556\n",
      "mean_squared_error:  0.9464888888888887\n",
      "Root_mean_squared_error:  0.9728766051709172\n",
      "r2_score:  0.282754261954262\n",
      "******************************************************************\n",
      "\n",
      "\n",
      "score of  Lasso(alpha=1.0, copy_X=True, fit_intercept=True, max_iter=1000,\n",
      "      normalize=False, positive=False, precompute=False, random_state=None,\n",
      "      selection='cyclic', tol=0.0001, warm_start=False)  is  0.0\n",
      "Error: \n",
      "mean_absolute_error:  0.9626618488407106\n",
      "mean_squared_error:  1.3594715079942132\n",
      "Root_mean_squared_error:  1.1659637678736905\n",
      "r2_score:  -0.030202421338650254\n",
      "******************************************************************\n",
      "\n",
      "\n",
      "score of  Ridge(alpha=1.0, copy_X=True, fit_intercept=True, max_iter=None,\n",
      "      normalize=False, random_state=None, solver='auto', tol=0.001)  is  0.22867926760079538\n",
      "Error: \n",
      "mean_absolute_error:  0.7677509568137209\n",
      "mean_squared_error:  0.9873730269103057\n",
      "Root_mean_squared_error:  0.9936664565689564\n",
      "r2_score:  0.25177241515840654\n",
      "******************************************************************\n",
      "\n",
      "\n"
     ]
    }
   ],
   "source": [
    "model= [LinearRegression(),SVR(),DecisionTreeRegressor(),KNeighborsRegressor(),RandomForestRegressor(),Lasso(),Ridge()]\n",
    "\n",
    "for m in model:\n",
    "    m.fit(x_train,y_train)\n",
    "    pred = m.predict(x_test)\n",
    "    print('score of ',m, ' is ',m.score(x_train,y_train))\n",
    "    print('Error: ')\n",
    "    print('mean_absolute_error: ',mean_absolute_error(y_test,pred))\n",
    "    print('mean_squared_error: ',mean_squared_error(y_test,pred))\n",
    "    print('Root_mean_squared_error: ',np.sqrt(mean_squared_error(y_test,pred)))\n",
    "    print('r2_score: ',r2_score(y_test,pred))\n",
    "    print('******************************************************************')\n",
    "    print('\\n')"
   ]
  },
  {
   "cell_type": "code",
   "execution_count": 417,
   "metadata": {},
   "outputs": [
    {
     "name": "stdout",
     "output_type": "stream",
     "text": [
      "score of  LinearRegression(copy_X=True, fit_intercept=True, n_jobs=None, normalize=False) is: \n",
      "score:  [0.09609007 0.23587349 0.19220356 0.26759615]\n",
      "Mean score:  0.19794081805680291\n",
      "Standard deviation:  0.06460890527961692\n",
      "******************************************************************\n",
      "\n",
      "\n",
      "score of  SVR(C=1.0, cache_size=200, coef0=0.0, degree=3, epsilon=0.1, gamma='scale',\n",
      "    kernel='rbf', max_iter=-1, shrinking=True, tol=0.001, verbose=False) is: \n",
      "score:  [0.09751537 0.23245961 0.21064456 0.20564763]\n",
      "Mean score:  0.1865667936602112\n",
      "Standard deviation:  0.05239304157706881\n",
      "******************************************************************\n",
      "\n",
      "\n",
      "score of  DecisionTreeRegressor(ccp_alpha=0.0, criterion='mse', max_depth=None,\n",
      "                      max_features=None, max_leaf_nodes=None,\n",
      "                      min_impurity_decrease=0.0, min_impurity_split=None,\n",
      "                      min_samples_leaf=1, min_samples_split=2,\n",
      "                      min_weight_fraction_leaf=0.0, presort='deprecated',\n",
      "                      random_state=None, splitter='best') is: \n",
      "score:  [-0.2716763  -0.69502408 -0.39769542 -0.56628478]\n",
      "Mean score:  -0.4826701446655599\n",
      "Standard deviation:  0.1611092062997791\n",
      "******************************************************************\n",
      "\n",
      "\n",
      "score of  KNeighborsRegressor(algorithm='auto', leaf_size=30, metric='minkowski',\n",
      "                    metric_params=None, n_jobs=None, n_neighbors=5, p=2,\n",
      "                    weights='uniform') is: \n",
      "score:  [0.01387283 0.1800321  0.34445344 0.18697218]\n",
      "Mean score:  0.18133263828840793\n",
      "Standard deviation:  0.11692377726413472\n",
      "******************************************************************\n",
      "\n",
      "\n",
      "score of  RandomForestRegressor(bootstrap=True, ccp_alpha=0.0, criterion='mse',\n",
      "                      max_depth=None, max_features='auto', max_leaf_nodes=None,\n",
      "                      max_samples=None, min_impurity_decrease=0.0,\n",
      "                      min_impurity_split=None, min_samples_leaf=1,\n",
      "                      min_samples_split=2, min_weight_fraction_leaf=0.0,\n",
      "                      n_estimators=100, n_jobs=None, oob_score=False,\n",
      "                      random_state=None, verbose=0, warm_start=False) is: \n",
      "score:  [0.01775578 0.11547994 0.20116088 0.21575221]\n",
      "Mean score:  0.13753720252341708\n",
      "Standard deviation:  0.0790564234147312\n",
      "******************************************************************\n",
      "\n",
      "\n",
      "score of  Lasso(alpha=1.0, copy_X=True, fit_intercept=True, max_iter=1000,\n",
      "      normalize=False, positive=False, precompute=False, random_state=None,\n",
      "      selection='cyclic', tol=0.0001, warm_start=False) is: \n",
      "score:  [-0.01129944 -0.00092566 -0.00190567 -0.01915483]\n",
      "Mean score:  -0.008321401375772586\n",
      "Standard deviation:  0.007451350262072335\n",
      "******************************************************************\n",
      "\n",
      "\n",
      "score of  Ridge(alpha=1.0, copy_X=True, fit_intercept=True, max_iter=None,\n",
      "      normalize=False, random_state=None, solver='auto', tol=0.001) is: \n",
      "score:  [0.09826733 0.24164633 0.20215307 0.26362889]\n",
      "Mean score:  0.20142390635624374\n",
      "Standard deviation:  0.0635002250155353\n",
      "******************************************************************\n",
      "\n",
      "\n"
     ]
    }
   ],
   "source": [
    "from sklearn.model_selection import cross_val_score\n",
    "model= [LinearRegression(),SVR(),DecisionTreeRegressor(),KNeighborsRegressor(),RandomForestRegressor(),Lasso(),Ridge()]\n",
    "\n",
    "for m in model:\n",
    "    score = cross_val_score(m,x,y,cv=4,scoring='r2')\n",
    "    print('score of ',m,'is: ')\n",
    "    print('score: ',score)\n",
    "    print('Mean score: ',score.mean())\n",
    "    print('Standard deviation: ',score.std())\n",
    "    print('******************************************************************')\n",
    "    print('\\n')"
   ]
  },
  {
   "cell_type": "markdown",
   "metadata": {},
   "source": [
    "### From this DecisionTreeRegressor is the best model as it is good score"
   ]
  },
  {
   "cell_type": "code",
   "execution_count": 418,
   "metadata": {},
   "outputs": [],
   "source": [
    "import pickle\n",
    "filename ='heartdisease_tested.pkl'\n",
    "pickle.dump(DecisionTreeRegressor(),open(filename,'wb'))"
   ]
  },
  {
   "cell_type": "code",
   "execution_count": null,
   "metadata": {},
   "outputs": [],
   "source": []
  }
 ],
 "metadata": {
  "kernelspec": {
   "display_name": "Python 3",
   "language": "python",
   "name": "python3"
  },
  "language_info": {
   "codemirror_mode": {
    "name": "ipython",
    "version": 3
   },
   "file_extension": ".py",
   "mimetype": "text/x-python",
   "name": "python",
   "nbconvert_exporter": "python",
   "pygments_lexer": "ipython3",
   "version": "3.7.6"
  }
 },
 "nbformat": 4,
 "nbformat_minor": 4
}
